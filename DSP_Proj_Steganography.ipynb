{
 "cells": [
  {
   "cell_type": "code",
   "execution_count": 1,
   "metadata": {},
   "outputs": [],
   "source": [
    "#Project DSP CSCE-3611/363_Spring 18\n",
    "#Amr Gouhar       900153482\n",
    "#Mohamed Ahmed    900153487\n",
    "#Ahmed Zahed      900130311\n",
    "\n",
    "from scipy.io import wavfile\n",
    "import numpy as np\n",
    "import cmath\n",
    "#read the data and sample rate of the message\n",
    "Rm, Dm = wavfile.read('message.wav');\n",
    "#read the data and sample rate of the carrier\n",
    "Rc, Dc = wavfile.read('carrier.wav');\n",
    "\n",
    "#message length\n",
    "Msz = len(Dm);\n",
    "#carrier length\n",
    "Csz = len(Dc);\n",
    "\n",
    "#if the carrier's size is not enough to carry the length prompt the user \n",
    "if(Msz * 16 > Csz - 64):\n",
    "    print(\"incryption not successful, carrier size not sufficient\");\n",
    "else:\n",
    "    #declaring the bitstream\n",
    "    Encryp = np.zeros((Msz * 16) + 64);\n",
    "    #encrypt the size of the message\n",
    "    for i in range(32):\n",
    "        Encryp[i] = (Msz) & (1 << i);\n",
    "    #encrypt the sample rate of the message\n",
    "    for i in range(32,64):\n",
    "        Encryp[i] = (Rm) & (1 << (i%32)); \n",
    "    #encrypt the message\n",
    "    for i in range(64, Msz):\n",
    "        for j in range(16):\n",
    "            Encryp[i*16+j] = Dm[i - 64] & (1 << j);\n",
    "    #add the encrypted size, sample rate, and message into the LSB of each data index\n",
    "    for i in range((Msz*16)+64):\n",
    "        if(Encryp[i]):\n",
    "            Dc[i] |= 1;\n",
    "        else:\n",
    "            Dc[i] &= 0xfffe;\n"
   ]
  },
  {
   "cell_type": "code",
   "execution_count": 2,
   "metadata": {},
   "outputs": [],
   "source": [
    "#prepare the data for writing into the audio file\n",
    "out = np.asarray(Dc, dtype=np.int16);\n",
    "#write the out file\n",
    "wavfile.write('Zombie.wav', Rc, out);"
   ]
  },
  {
   "cell_type": "code",
   "execution_count": 3,
   "metadata": {},
   "outputs": [],
   "source": [
    "from scipy.io import wavfile\n",
    "import numpy as np\n",
    "import cmath\n",
    "#read the encrypted carrier audio file\n",
    "Rs, Ds = wavfile.read('Zombie.wav');\n",
    "\n",
    "#declare the size of the hidden message\n",
    "Msz = 0;\n",
    "#decrypt the message length\n",
    "for i in range(32):\n",
    "    Msz  |= ((Ds[i] & 1) << i);\n",
    "#declare the message data and the sample rate\n",
    "Do = [0]*(Msz);\n",
    "Ro = 0;\n",
    "#decrypt the sample rate\n",
    "for i in range(32,64):\n",
    "    Ro  |= ((Ds[i] & 1) << (i%32));\n",
    "#decrypt the message\n",
    "for i in range(64, Msz + 64):\n",
    "    Do[(i-64)/16] = Do[(i-64)/16] | ((Ds[i] & 1) << ((i-64)%16));\n"
   ]
  },
  {
   "cell_type": "code",
   "execution_count": 4,
   "metadata": {},
   "outputs": [],
   "source": [
    "#prepare the data for writing into the audio file\n",
    "out = np.asarray(Dm, dtype=np.int16);\n",
    "#write the out file\n",
    "wavfile.write('hiddenMessage.wav', Ro, out);"
   ]
  },
  {
   "cell_type": "code",
   "execution_count": null,
   "metadata": {},
   "outputs": [],
   "source": []
  }
 ],
 "metadata": {
  "kernelspec": {
   "display_name": "Python 2",
   "language": "python",
   "name": "python2"
  },
  "language_info": {
   "codemirror_mode": {
    "name": "ipython",
    "version": 2
   },
   "file_extension": ".py",
   "mimetype": "text/x-python",
   "name": "python",
   "nbconvert_exporter": "python",
   "pygments_lexer": "ipython2",
   "version": "2.7.14"
  }
 },
 "nbformat": 4,
 "nbformat_minor": 2
}
